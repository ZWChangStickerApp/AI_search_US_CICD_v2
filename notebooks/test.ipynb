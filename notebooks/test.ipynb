{
 "cells": [
  {
   "cell_type": "code",
   "execution_count": 1,
   "metadata": {},
   "outputs": [],
   "source": [
    "import sys\n",
    "sys.path.insert(0, '/Users/zhiwei.chang/Documents/StickerApp_projects/AI_search/AI_search_US_CICD_v2/code') "
   ]
  },
  {
   "cell_type": "code",
   "execution_count": 2,
   "metadata": {},
   "outputs": [],
   "source": [
    "import openai\n",
    "file=open('./api_key/key.txt',\"r\")\n",
    "key=file.read()\n",
    "file.close()\n",
    "\n",
    "import os\n",
    "os.environ[\"OPENAI_API_KEY\"] = key"
   ]
  },
  {
   "cell_type": "code",
   "execution_count": 4,
   "metadata": {},
   "outputs": [],
   "source": []
  },
  {
   "cell_type": "code",
   "execution_count": 5,
   "metadata": {},
   "outputs": [],
   "source": [
    "from scrap import Scrap"
   ]
  },
  {
   "cell_type": "code",
   "execution_count": 10,
   "metadata": {},
   "outputs": [],
   "source": [
    "custom_meta_data = {\n",
    "    'lang': 'us',\n",
    "    'title': 'custom',\n",
    "    'name': 'custom',\n",
    "    'page_type': 'custom-stickers',\n",
    "    'url': 'https://stickerapp.com/custom-stickers'\n",
    "}\n",
    "\n",
    "custom_search_tags = {\n",
    "    'div': ['hero-item', 'col-xs-12 col-sm-6'],\n",
    "    'p': ['wizard-description']\n",
    "}"
   ]
  },
  {
   "cell_type": "code",
   "execution_count": 11,
   "metadata": {},
   "outputs": [],
   "source": [
    "custom_scrap = Scrap(custom_meta_data, custom_search_tags)"
   ]
  },
  {
   "cell_type": "code",
   "execution_count": 12,
   "metadata": {},
   "outputs": [],
   "source": [
    "custom_df = custom_scrap.gen_df()"
   ]
  },
  {
   "cell_type": "code",
   "execution_count": 13,
   "metadata": {},
   "outputs": [
    {
     "data": {
      "text/html": [
       "<div>\n",
       "<style scoped>\n",
       "    .dataframe tbody tr th:only-of-type {\n",
       "        vertical-align: middle;\n",
       "    }\n",
       "\n",
       "    .dataframe tbody tr th {\n",
       "        vertical-align: top;\n",
       "    }\n",
       "\n",
       "    .dataframe thead th {\n",
       "        text-align: right;\n",
       "    }\n",
       "</style>\n",
       "<table border=\"1\" class=\"dataframe\">\n",
       "  <thead>\n",
       "    <tr style=\"text-align: right;\">\n",
       "      <th></th>\n",
       "      <th>tag</th>\n",
       "      <th>content</th>\n",
       "      <th>lang</th>\n",
       "      <th>title</th>\n",
       "      <th>name</th>\n",
       "      <th>page_type</th>\n",
       "      <th>url</th>\n",
       "    </tr>\n",
       "  </thead>\n",
       "  <tbody>\n",
       "    <tr>\n",
       "      <th>0</th>\n",
       "      <td>Create custom stickers easily with our sticker...</td>\n",
       "      <td>Print Custom Stickers\\n\\nMake your own custom ...</td>\n",
       "      <td>us</td>\n",
       "      <td>custom</td>\n",
       "      <td>custom</td>\n",
       "      <td>custom-stickers</td>\n",
       "      <td>https://stickerapp.com/custom-stickers</td>\n",
       "    </tr>\n",
       "    <tr>\n",
       "      <th>1</th>\n",
       "      <td>Boost your brand with custom stickers for your...</td>\n",
       "      <td>Print custom stickers for your business?\\nHey ...</td>\n",
       "      <td>us</td>\n",
       "      <td>custom</td>\n",
       "      <td>custom</td>\n",
       "      <td>custom-stickers</td>\n",
       "      <td>https://stickerapp.com/custom-stickers</td>\n",
       "    </tr>\n",
       "    <tr>\n",
       "      <th>2</th>\n",
       "      <td>Find the perfect sticker for any situation wit...</td>\n",
       "      <td>Stickers for every need and situation\\nOur cus...</td>\n",
       "      <td>us</td>\n",
       "      <td>custom</td>\n",
       "      <td>custom</td>\n",
       "      <td>custom-stickers</td>\n",
       "      <td>https://stickerapp.com/custom-stickers</td>\n",
       "    </tr>\n",
       "    <tr>\n",
       "      <th>3</th>\n",
       "      <td>Create custom die-cut stickers with +10 materi...</td>\n",
       "      <td>Watch your art come to life\\nIf you’re thinkin...</td>\n",
       "      <td>us</td>\n",
       "      <td>custom</td>\n",
       "      <td>custom</td>\n",
       "      <td>custom-stickers</td>\n",
       "      <td>https://stickerapp.com/custom-stickers</td>\n",
       "    </tr>\n",
       "    <tr>\n",
       "      <th>4</th>\n",
       "      <td>Turn your kids' drawings into stickers, decora...</td>\n",
       "      <td>Print sheets with kids drawings\\nYou love your...</td>\n",
       "      <td>us</td>\n",
       "      <td>custom</td>\n",
       "      <td>custom</td>\n",
       "      <td>custom-stickers</td>\n",
       "      <td>https://stickerapp.com/custom-stickers</td>\n",
       "    </tr>\n",
       "    <tr>\n",
       "      <th>5</th>\n",
       "      <td>Customize your stickers with add-ons like back...</td>\n",
       "      <td>Add-ons like back paper print and pink ink can...</td>\n",
       "      <td>us</td>\n",
       "      <td>custom</td>\n",
       "      <td>custom</td>\n",
       "      <td>custom-stickers</td>\n",
       "      <td>https://stickerapp.com/custom-stickers</td>\n",
       "    </tr>\n",
       "  </tbody>\n",
       "</table>\n",
       "</div>"
      ],
      "text/plain": [
       "                                                 tag  \\\n",
       "0  Create custom stickers easily with our sticker...   \n",
       "1  Boost your brand with custom stickers for your...   \n",
       "2  Find the perfect sticker for any situation wit...   \n",
       "3  Create custom die-cut stickers with +10 materi...   \n",
       "4  Turn your kids' drawings into stickers, decora...   \n",
       "5  Customize your stickers with add-ons like back...   \n",
       "\n",
       "                                             content lang   title    name  \\\n",
       "0  Print Custom Stickers\\n\\nMake your own custom ...   us  custom  custom   \n",
       "1  Print custom stickers for your business?\\nHey ...   us  custom  custom   \n",
       "2  Stickers for every need and situation\\nOur cus...   us  custom  custom   \n",
       "3  Watch your art come to life\\nIf you’re thinkin...   us  custom  custom   \n",
       "4  Print sheets with kids drawings\\nYou love your...   us  custom  custom   \n",
       "5  Add-ons like back paper print and pink ink can...   us  custom  custom   \n",
       "\n",
       "         page_type                                     url  \n",
       "0  custom-stickers  https://stickerapp.com/custom-stickers  \n",
       "1  custom-stickers  https://stickerapp.com/custom-stickers  \n",
       "2  custom-stickers  https://stickerapp.com/custom-stickers  \n",
       "3  custom-stickers  https://stickerapp.com/custom-stickers  \n",
       "4  custom-stickers  https://stickerapp.com/custom-stickers  \n",
       "5  custom-stickers  https://stickerapp.com/custom-stickers  "
      ]
     },
     "execution_count": 13,
     "metadata": {},
     "output_type": "execute_result"
    }
   ],
   "source": [
    "custom_df.head(10)"
   ]
  },
  {
   "cell_type": "code",
   "execution_count": 9,
   "metadata": {},
   "outputs": [],
   "source": [
    "# custom_content = custom_scrap.gen_content_dict(custom_search_tags)\n",
    "# custom_content_list = custom_scrap.gen_content_list(custom_content)\n",
    "# custom_tag_list = custom_scrap.gen_tag(custom_content_list)\n",
    "# custom_df = custom_scrap.gen_df(custom_tag_list, custom_content_list, custom_meta_data)\n",
    "# custom_df.head(10)"
   ]
  },
  {
   "cell_type": "code",
   "execution_count": 3,
   "metadata": {},
   "outputs": [],
   "source": [
    "from scrap import manualAdd"
   ]
  },
  {
   "cell_type": "code",
   "execution_count": 4,
   "metadata": {},
   "outputs": [],
   "source": [
    "reorder_meta_data = {\n",
    "    'lang': 'us',\n",
    "    'title': 'reorder',\n",
    "    'name': 'reorder',\n",
    "    'page_type': 'reorder',\n",
    "    'url': 'https://stickerapp.com/custom-stickers'\n",
    "}\n",
    "\n",
    "reorder_tag_list = [\"Reorder: Fill in your order information to retrieve a past order.\"]\n",
    "reorder_content_list = [\"https://stickerapp.com/reorder\"]"
   ]
  },
  {
   "cell_type": "code",
   "execution_count": 5,
   "metadata": {},
   "outputs": [],
   "source": [
    "reorder_scrap = manualAdd(reorder_tag_list, reorder_content_list, reorder_meta_data)\n",
    "reorder_df = reorder_scrap.gen_df()"
   ]
  },
  {
   "cell_type": "code",
   "execution_count": 6,
   "metadata": {},
   "outputs": [
    {
     "data": {
      "text/html": [
       "<div>\n",
       "<style scoped>\n",
       "    .dataframe tbody tr th:only-of-type {\n",
       "        vertical-align: middle;\n",
       "    }\n",
       "\n",
       "    .dataframe tbody tr th {\n",
       "        vertical-align: top;\n",
       "    }\n",
       "\n",
       "    .dataframe thead th {\n",
       "        text-align: right;\n",
       "    }\n",
       "</style>\n",
       "<table border=\"1\" class=\"dataframe\">\n",
       "  <thead>\n",
       "    <tr style=\"text-align: right;\">\n",
       "      <th></th>\n",
       "      <th>tag</th>\n",
       "      <th>content</th>\n",
       "      <th>lang</th>\n",
       "      <th>title</th>\n",
       "      <th>name</th>\n",
       "      <th>page_type</th>\n",
       "      <th>url</th>\n",
       "    </tr>\n",
       "  </thead>\n",
       "  <tbody>\n",
       "    <tr>\n",
       "      <th>0</th>\n",
       "      <td>Reorder: Fill in your order information to ret...</td>\n",
       "      <td>https://stickerapp.com/reorder</td>\n",
       "      <td>us</td>\n",
       "      <td>reorder</td>\n",
       "      <td>reorder</td>\n",
       "      <td>reorder</td>\n",
       "      <td>https://stickerapp.com/custom-stickers</td>\n",
       "    </tr>\n",
       "  </tbody>\n",
       "</table>\n",
       "</div>"
      ],
      "text/plain": [
       "                                                 tag  \\\n",
       "0  Reorder: Fill in your order information to ret...   \n",
       "\n",
       "                          content lang    title     name page_type  \\\n",
       "0  https://stickerapp.com/reorder   us  reorder  reorder   reorder   \n",
       "\n",
       "                                      url  \n",
       "0  https://stickerapp.com/custom-stickers  "
      ]
     },
     "execution_count": 6,
     "metadata": {},
     "output_type": "execute_result"
    }
   ],
   "source": [
    "reorder_df.head(10)"
   ]
  },
  {
   "cell_type": "code",
   "execution_count": 7,
   "metadata": {},
   "outputs": [],
   "source": [
    "import numpy as np"
   ]
  },
  {
   "cell_type": "code",
   "execution_count": 9,
   "metadata": {},
   "outputs": [],
   "source": [
    "file=open('../api_key/key.txt',\"r\")\n",
    "key=file.read()\n",
    "file.close()"
   ]
  },
  {
   "cell_type": "code",
   "execution_count": null,
   "metadata": {},
   "outputs": [],
   "source": []
  }
 ],
 "metadata": {
  "kernelspec": {
   "display_name": "general-dev-202309",
   "language": "python",
   "name": "python3"
  },
  "language_info": {
   "codemirror_mode": {
    "name": "ipython",
    "version": 3
   },
   "file_extension": ".py",
   "mimetype": "text/x-python",
   "name": "python",
   "nbconvert_exporter": "python",
   "pygments_lexer": "ipython3",
   "version": "3.11.4"
  }
 },
 "nbformat": 4,
 "nbformat_minor": 2
}
