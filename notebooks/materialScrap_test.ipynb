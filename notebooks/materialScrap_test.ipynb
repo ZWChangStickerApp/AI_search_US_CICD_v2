{
 "cells": [
  {
   "cell_type": "markdown",
   "metadata": {},
   "source": [
    "We use the old module for now!"
   ]
  },
  {
   "cell_type": "code",
   "execution_count": 1,
   "metadata": {},
   "outputs": [],
   "source": [
    "import os\n",
    "import sys\n",
    "sys.path.insert(0, '/Users/zhiwei.chang/Documents/StickerApp_projects/AI_search/AI_search_US_CICD_v2/codes') \n",
    "file=open('./api_key/key.txt',\"r\")\n",
    "key=file.read()\n",
    "file.close()\n",
    "os.environ[\"OPENAI_API_KEY\"] = key\n",
    "\n",
    "import pandas as pd\n",
    "import re\n",
    "from bs4 import BeautifulSoup"
   ]
  },
  {
   "cell_type": "code",
   "execution_count": 2,
   "metadata": {},
   "outputs": [],
   "source": [
    "def find_file(path, shortname):\n",
    "    for f in os.listdir(path):\n",
    "        ext = os.path.splitext(f)[1]\n",
    "        if ext != '.csv':\n",
    "            continue\n",
    "        name = os.path.splitext(f)[0]\n",
    "        parts = re.split('_', name)\n",
    "        if parts[0] == shortname:\n",
    "            return os.path.join(path, f)\n",
    "        \n",
    "generated_folder = \"../data/generated/\"\n",
    "target_folder = generated_folder + \"material/\"\n",
    "\n",
    "file_path = find_file(generated_folder, \"material\")\n",
    "df = pd.read_csv(file_path)\n",
    "df = df[df['lang'] == 'us']"
   ]
  },
  {
   "cell_type": "code",
   "execution_count": 3,
   "metadata": {},
   "outputs": [
    {
     "data": {
      "text/plain": [
       "array(['vinyl-stickers', 'holographic-stickers', 'transparent-stickers',\n",
       "       'mirror-stickers', 'glitter-stickers', 'prismatic-stickers',\n",
       "       'brushed-aluminum-stickers', 'kraft-paper-stickers',\n",
       "       'glow-in-the-dark-stickers', 'pixie-dust'], dtype=object)"
      ]
     },
     "execution_count": 3,
     "metadata": {},
     "output_type": "execute_result"
    }
   ],
   "source": [
    "df['name'].unique()"
   ]
  },
  {
   "cell_type": "code",
   "execution_count": 4,
   "metadata": {},
   "outputs": [
    {
     "data": {
      "text/plain": [
       "array(['Vinyl', 'Holographic', 'Transparent', 'Mirror', 'Glitter',\n",
       "       'Prismatic', 'Brushed aluminum', 'Kraft paper', 'Glow in the dark',\n",
       "       'Pixie dust'], dtype=object)"
      ]
     },
     "execution_count": 4,
     "metadata": {},
     "output_type": "execute_result"
    }
   ],
   "source": [
    "df['title'].unique()"
   ]
  },
  {
   "cell_type": "code",
   "execution_count": 5,
   "metadata": {},
   "outputs": [
    {
     "data": {
      "text/plain": [
       "array(['stickerapp-materials'], dtype=object)"
      ]
     },
     "execution_count": 5,
     "metadata": {},
     "output_type": "execute_result"
    }
   ],
   "source": [
    "df['page_type'].unique()"
   ]
  },
  {
   "cell_type": "code",
   "execution_count": 6,
   "metadata": {},
   "outputs": [],
   "source": [
    "title = df['title'].unique()\n",
    "link = df['name'].unique()\n",
    "var = [x[0] for x in pd.Series(df['title'].unique()).str.split(' ')]"
   ]
  },
  {
   "cell_type": "code",
   "execution_count": 7,
   "metadata": {},
   "outputs": [
    {
     "data": {
      "text/plain": [
       "array(['Vinyl', 'Holographic', 'Transparent', 'Mirror', 'Glitter',\n",
       "       'Prismatic', 'Brushed aluminum', 'Kraft paper', 'Glow in the dark',\n",
       "       'Pixie dust'], dtype=object)"
      ]
     },
     "execution_count": 7,
     "metadata": {},
     "output_type": "execute_result"
    }
   ],
   "source": [
    "title"
   ]
  },
  {
   "cell_type": "code",
   "execution_count": 8,
   "metadata": {},
   "outputs": [
    {
     "name": "stdout",
     "output_type": "stream",
     "text": [
      "Vinyl Vinyl\n"
     ]
    }
   ],
   "source": [
    "var_name = var[0]\n",
    "title_name = title[0]\n",
    "print(var_name, title_name)"
   ]
  },
  {
   "cell_type": "code",
   "execution_count": 9,
   "metadata": {},
   "outputs": [],
   "source": [
    "name_df = \"df_\" + var_name\n",
    "exec(\"%s = %d\" % (name_df, 0))\n",
    "name_df = df[df['title'] == title_name]\n",
    "df_processed = name_df.copy()"
   ]
  },
  {
   "cell_type": "code",
   "execution_count": 7,
   "metadata": {},
   "outputs": [],
   "source": [
    "# print(df_processed['block_content'].sum())"
   ]
  },
  {
   "cell_type": "code",
   "execution_count": 64,
   "metadata": {},
   "outputs": [],
   "source": [
    "# soup = BeautifulSoup(df_processed['block_content'].sum(), 'html.parser')"
   ]
  },
  {
   "cell_type": "code",
   "execution_count": 63,
   "metadata": {},
   "outputs": [],
   "source": [
    "# soup.find_all('img')"
   ]
  },
  {
   "cell_type": "code",
   "execution_count": 16,
   "metadata": {},
   "outputs": [],
   "source": [
    "material_vinyl_data = {\n",
    "    'lang': 'us',\n",
    "    'title': 'Vinyl',\n",
    "    'child_page': df_processed['name'].unique()[0],\n",
    "    'parent_page': df_processed['page_type'].unique()[0],\n",
    "    'url': df_processed['url'].unique()[0],\n",
    "    'html':df_processed['block_content'].sum()    \n",
    "}\n",
    "\n",
    "material_vinyl_tags = {\n",
    "    'div': ['hero-item', 'flex-section',  'tab-content',\n",
    "            'detail-container',  'scrolling-wrapper-flexbox','content-wrapper bg-white pt-0', 'reviews', 'bs5-row bs5-d-flex bs5-justify-content-between']\n",
    "    # 'div': ['container']\n",
    "    # 'div': ['tab-content', 'tab-content specs', 'tab-content faq', 'design-container','accordion-tab-container']\n",
    "}"
   ]
  },
  {
   "cell_type": "code",
   "execution_count": 17,
   "metadata": {},
   "outputs": [],
   "source": [
    "from scrap import Scrap\n",
    "material_vinyl_scrap = Scrap(material_vinyl_data, material_vinyl_tags)\n",
    "material_vinyl_content = material_vinyl_scrap.gen_content_dict(material_vinyl_tags)"
   ]
  },
  {
   "cell_type": "code",
   "execution_count": 18,
   "metadata": {},
   "outputs": [
    {
     "data": {
      "text/plain": [
       "['[TrustpilotBanner size=\"medium\"]\\r\\nCustom Vinyl Stickers\\nMake your own custom-made vinyl stickers on our best-selling and durable sticker material.\\nWhat\\'s not to love about our most functional and straightforward sticker material? When you create your custom sticker on our most popular white vinyl material, you open the door to endless design possibilities. Choose from a myriad of add-on options like back paper print, alternative laminates, and creative inks- anything goes when it comes to vinyl material.\\n Let us know in a comment if you need any design help or have special requests.',\n",
       " 'Our Best Selling Sticker Material\\nVinyl stickers are the OG multipurpose sticker. This material is strong, reliable, and versatile, perfect for indoor or outdoor use. Stickers made on our vinyl material will withstand any kind of weather, will hang on through the dishwasher, and are UV protected so they will stay shiny and vibrant for up to 4 years.\\n\\n\\n\\n\\n\\n\\n\\n\\nInstant Proof with our Sticker Maker\\nWith our custom sticker editor, you can make any design you can think of to be printed on white vinyl. The colors will pop and the vinyl will give them a nice clean finish.',\n",
       " 'How to order vinyl stickers\\n\\nSelect material \"vinyl\" above.\\nSelect your desired cutline, size and quantity in the wizard above.\\nUpload your file to create your custom order.\\nSelect your shipping and pay.\\n\\nLet us know if you have any questions or additional requests!',\n",
       " 'Product Features\\n\\n\\n\\nMaterial Name\\nWhite premium PP film Permanent adhesive\\n\\n\\nLaminate\\nUV Glossy Pet, Glossy PET, Soft touch Matte, Cracked Ice\\n\\n\\nAvailable products\\nDie cut, Kiss cut, Sticker sheet, 3D Dome, Hang tag\\n\\n\\nSize restrictions\\nMax 47.2\" (120 cm) in one direction\\n\\n\\nBack paper print\\nYes*\\n\\n\\nPink Ink\\nYes*\\n\\n\\nInvisible Ink\\nYes\\n\\n\\nOpacities\\nNo\\n\\n\\nMetallics colors\\nNo\\n\\n\\nRecycled\\nNo\\n\\n\\nPVC Free\\nYes*\\n\\n\\nUV proof\\nGlossy laminate only\\n\\n\\nWaterproof\\nYes\\n\\n\\nDishwasher safe\\nYes\\n\\n\\nScratchproof\\nGlossy laminate only\\n\\n\\nFull color print\\nYes\\n\\n\\nRemovable\\nYes\\n\\n\\nBack Slit\\nNo\\n\\n\\nHeight\\n0,123 mm (Glossy)\\n\\n\\nIndoor use only\\nNo\\n\\n\\n\\n\\xa0\\n*=sizes below 10.6\" (27 cm) in one direction',\n",
       " 'Is vinyl material suitable for both indoor and outdoor use?\\n\\n\\n\\nYes, our vinyl material is suitable for both indoor and outdoor use. Vinyl material is water- and weather-proof and if you combine it with the glossy laminate, it is also resistant to UV radiation, giving it an outdoor life of about 2-4 years.\\n\\n\\n\\n\\n\\n\\nHow durable are vinyl stickers, and do they fade over time? \\n\\n\\nOur vinyl stickers are water-, weather- and, with a glossy laminate, also UV-proof. They are resistant to light scratches and will work perfectly on a majority of smooth, dry and clean surfaces. Glossy vinyl stickers should survive up to 2-4 years outdoors before they begin to fade and it\\'s even longer indoors, depending on the conditions that the stickers are exposed to.\\n\\n\\n\\n\\n\\nCan vinyl stickers be easily removed without leaving residue? \\n\\n\\nOur vinyl stickers can be easily removed, however, the residue depends on the outside factors, such as how long the stickers remain in one place and what temperatures and weather conditions they are exposed to.\\n\\n\\n\\n\\n\\nHow durable are vinyl stickers, and do they fade over time?\\n\\n\\nOur vinyl stickers are water-, weather- and, with a glossy laminate, also UV-proof. They are resistant to light scratches and will work perfectly on a majority of smooth, dry and clean surfaces. Glossy vinyl stickers should survive up to 2-4 years outdoors before they begin to fade and it\\'s even longer indoors, depending on the conditions that the stickers are exposed to.\\n\\n\\n\\n\\n\\nCan vinyl stickers be cut into custom shapes and sizes?\\n\\n\\nYes, our vinyl stickers can be cut into almost any custom shape with rounded edges. The maximum size for vinyl stickers is 47\"x47\" (120x120cm), so there is a wide variety of shape and size possibilities.',\n",
       " \"Good to know details about white vinyl\\n\\n\\nGlossy, matte or cracked ice compatible laminates\\nBack paper print available\\nFull color print\\nWhite premium PP film with permanent adhesive\\n2-4 year outdoor life with glossy laminate only\\nPVC free product\\nAvailable as sticker sheets\\n\\n\\nYou will not be charged per printed color\\nMake a design with as many colors and effects as you want, you'll always pay the same price\",\n",
       " '\"StickerApp is a perfect match for us with all the different materials, short lead times, efficient customer support and the fact that we can control cutlines directly in our original file etc...\"\\nOmnipollo\\n\\n\\n\\n\"StickerApp has been our GO-TO for 3+ years!\"...\"hands down the best quality stickers, amazing customer support and very fast shipping times worldwide. Happy to have StickerApp as our official producer of Sticker Savages stickers!\"\\nSticker Savages\\n\\n\\n\\n\"Being an animator, there\\'s nothing more important than being able to produce products of my characters that people are able to take home. It increases the love between the viewer and the art. StickerApp has helped me do exactly that with high-quality, creative, and colorful stickers that re-imagine how my 2D cartoon characters interact with this 3D world.\"\\nDanny Casale\\n\\n\\n\\n\"StickerApp has been our trusted sticker printer for several years now, and we cannot recommend them enough. From their excellent quality to their quick turnaround times, StickerApp consistently exceeds our expectations!\"\\nSourpuss Clothing',\n",
       " 'What our customers say about Vinyl\\n\\xa0\\r\\n[TrustpilotReviews sku=102]']"
      ]
     },
     "execution_count": 18,
     "metadata": {},
     "output_type": "execute_result"
    }
   ],
   "source": [
    "material_vinyl_content['div']"
   ]
  },
  {
   "cell_type": "code",
   "execution_count": 78,
   "metadata": {},
   "outputs": [],
   "source": []
  },
  {
   "cell_type": "code",
   "execution_count": 79,
   "metadata": {},
   "outputs": [
    {
     "data": {
      "text/plain": [
       "['[TrustpilotBanner size=\"medium\"]\\r\\nCustom Vinyl Stickers\\nMake your own custom-made vinyl stickers on our best-selling and durable sticker material.\\nWhat\\'s not to love about our most functional and straightforward sticker material? When you create your custom sticker on our most popular white vinyl material, you open the door to endless design possibilities. Choose from a myriad of add-on options like back paper print, alternative laminates, and creative inks- anything goes when it comes to vinyl material.\\n Let us know in a comment if you need any design help or have special requests.',\n",
       " 'Our Best Selling Sticker Material\\nVinyl stickers are the OG multipurpose sticker. This material is strong, reliable, and versatile, perfect for indoor or outdoor use. Stickers made on our vinyl material will withstand any kind of weather, will hang on through the dishwasher, and are UV protected so they will stay shiny and vibrant for up to 4 years.\\n\\n\\n\\n\\n\\n\\n\\n\\nInstant Proof with our Sticker Maker\\nWith our custom sticker editor, you can make any design you can think of to be printed on white vinyl. The colors will pop and the vinyl will give them a nice clean finish.',\n",
       " 'How to order vinyl stickers\\n\\nSelect material \"vinyl\" above.\\nSelect your desired cutline, size and quantity in the wizard above.\\nUpload your file to create your custom order.\\nSelect your shipping and pay.\\n\\nLet us know if you have any questions or additional requests!',\n",
       " 'Product Features\\n\\n\\n\\nMaterial Name\\nWhite premium PP film Permanent adhesive\\n\\n\\nLaminate\\nUV Glossy Pet, Glossy PET, Soft touch Matte, Cracked Ice\\n\\n\\nAvailable products\\nDie cut, Kiss cut, Sticker sheet, 3D Dome, Hang tag\\n\\n\\nSize restrictions\\nMax 47.2\" (120 cm) in one direction\\n\\n\\nBack paper print\\nYes*\\n\\n\\nPink Ink\\nYes*\\n\\n\\nInvisible Ink\\nYes\\n\\n\\nOpacities\\nNo\\n\\n\\nMetallics colors\\nNo\\n\\n\\nRecycled\\nNo\\n\\n\\nPVC Free\\nYes*\\n\\n\\nUV proof\\nGlossy laminate only\\n\\n\\nWaterproof\\nYes\\n\\n\\nDishwasher safe\\nYes\\n\\n\\nScratchproof\\nGlossy laminate only\\n\\n\\nFull color print\\nYes\\n\\n\\nRemovable\\nYes\\n\\n\\nBack Slit\\nNo\\n\\n\\nHeight\\n0,123 mm (Glossy)\\n\\n\\nIndoor use only\\nNo\\n\\n\\n\\n\\xa0\\n*=sizes below 10.6\" (27 cm) in one direction',\n",
       " 'Is vinyl material suitable for both indoor and outdoor use?\\n\\n\\n\\nYes, our vinyl material is suitable for both indoor and outdoor use. Vinyl material is water- and weather-proof and if you combine it with the glossy laminate, it is also resistant to UV radiation, giving it an outdoor life of about 2-4 years.\\n\\n\\n\\n\\n\\n\\nHow durable are vinyl stickers, and do they fade over time? \\n\\n\\nOur vinyl stickers are water-, weather- and, with a glossy laminate, also UV-proof. They are resistant to light scratches and will work perfectly on a majority of smooth, dry and clean surfaces. Glossy vinyl stickers should survive up to 2-4 years outdoors before they begin to fade and it\\'s even longer indoors, depending on the conditions that the stickers are exposed to.\\n\\n\\n\\n\\n\\nCan vinyl stickers be easily removed without leaving residue? \\n\\n\\nOur vinyl stickers can be easily removed, however, the residue depends on the outside factors, such as how long the stickers remain in one place and what temperatures and weather conditions they are exposed to.\\n\\n\\n\\n\\n\\nHow durable are vinyl stickers, and do they fade over time?\\n\\n\\nOur vinyl stickers are water-, weather- and, with a glossy laminate, also UV-proof. They are resistant to light scratches and will work perfectly on a majority of smooth, dry and clean surfaces. Glossy vinyl stickers should survive up to 2-4 years outdoors before they begin to fade and it\\'s even longer indoors, depending on the conditions that the stickers are exposed to.\\n\\n\\n\\n\\n\\nCan vinyl stickers be cut into custom shapes and sizes?\\n\\n\\nYes, our vinyl stickers can be cut into almost any custom shape with rounded edges. The maximum size for vinyl stickers is 47\"x47\" (120x120cm), so there is a wide variety of shape and size possibilities.',\n",
       " \"Good to know details about white vinyl\\n\\n\\nGlossy, matte or cracked ice compatible laminates\\nBack paper print available\\nFull color print\\nWhite premium PP film with permanent adhesive\\n2-4 year outdoor life with glossy laminate only\\nPVC free product\\nAvailable as sticker sheets\\n\\n\\nYou will not be charged per printed color\\nMake a design with as many colors and effects as you want, you'll always pay the same price\",\n",
       " '\"StickerApp is a perfect match for us with all the different materials, short lead times, efficient customer support and the fact that we can control cutlines directly in our original file etc...\"\\nOmnipollo\\n\\n\\n\\n\"StickerApp has been our GO-TO for 3+ years!\"...\"hands down the best quality stickers, amazing customer support and very fast shipping times worldwide. Happy to have StickerApp as our official producer of Sticker Savages stickers!\"\\nSticker Savages\\n\\n\\n\\n\"Being an animator, there\\'s nothing more important than being able to produce products of my characters that people are able to take home. It increases the love between the viewer and the art. StickerApp has helped me do exactly that with high-quality, creative, and colorful stickers that re-imagine how my 2D cartoon characters interact with this 3D world.\"\\nDanny Casale\\n\\n\\n\\n\"StickerApp has been our trusted sticker printer for several years now, and we cannot recommend them enough. From their excellent quality to their quick turnaround times, StickerApp consistently exceeds our expectations!\"\\nSourpuss Clothing',\n",
       " 'Vinyl sticker by @iamasinner\\n\\n\\n\\n\\nVinyl sticker by @krystansaintcat\\n\\n\\n\\n\\nVinyl sticker by @lowcloudcanada\\n\\n\\n\\n\\nVinyl sticker by @mannymcflyoriginals']"
      ]
     },
     "execution_count": 79,
     "metadata": {},
     "output_type": "execute_result"
    }
   ],
   "source": [
    "material_vinyl_content['div']"
   ]
  },
  {
   "cell_type": "code",
   "execution_count": null,
   "metadata": {},
   "outputs": [],
   "source": []
  },
  {
   "cell_type": "code",
   "execution_count": 107,
   "metadata": {},
   "outputs": [
    {
     "data": {
      "text/plain": [
       "['Home\\n\\n\\nMaterials \\n\\n\\n                        Vinyl',\n",
       " \"Excellent\\n\\n\\n\\n\\n4.7\\n        out of 5 based on        10736 reviews\\n\\n\\nCustom Vinyl Stickers\\nMake your own custom-made vinyl stickers on our best-selling and durable sticker material.\\nWhat's not to love about our most functional and straightforward sticker material? When you create your custom sticker on our most popular white vinyl material, you open the door to endless design possibilities. Choose from a myriad of add-on options like back paper print, alternative laminates, and creative inks- anything goes when it comes to vinyl material.\\n Let us know in a comment if you need any design help or have special requests.\",\n",
       " 'Excellent\\n\\n\\n\\n\\n4.7\\n        out of 5 based on        10736 reviews',\n",
       " 'Any shapePrecisely cut to your design\\n\\n\\nAdd-on optionsBack paper print and special inks\\n\\n\\nWaterproofDishwasher safe',\n",
       " 'Make vinyl stickers\\nSelect your finish in our editor. Back paper print and special inks available by request.\\n\\xa0\\n\\n\\n\\n\\n\\nCutline\\n\\n\\n\\n\\n\\t\\t\\tContour cut        \\n\\n\\n\\n\\n\\t\\t\\tSquare        \\n\\n\\n\\n\\n\\t\\t\\tCircle        \\n\\n\\n\\n\\n\\t\\t\\tRound corners        \\n\\n\\n\\n\\n\\t\\t\\t\\tOn sheet\\t\\t\\t\\t                    11.8\" x 7.9\"\\n\\n\\n\\n\\n\\n\\t\\t\\t\\tSquare            \\n\\n\\n\\n\\n\\t\\t\\t\\tRound corners            \\n\\n\\n\\n\\n\\t\\t\\t\\tSquare            \\n\\n\\n\\n\\n\\t\\t\\t\\tRound corners            \\n\\n \\n\\n\\n\\n\\t\\tSize        \\n\\nTemplate\\n\\n\\n\\n\\n                            2\" x 1\"                        \\n\\n                            2\" x 2\"                        \\n\\n                            3\" x 2\"                        \\n\\n                            3\" x 3\"                        \\n\\n                            4\" x 3\"                        \\n\\n                            4\" x 4\"                        \\n\\n                            5\" x 2\"                        \\n\\n                            5\" x 3\"                        \\n\\n                            8\" x 4\"                        \\n\\n\\n\\t\\t\\t\\tCustom size                \\n\\n\\n\\nx\\n\\n\\n\\n\\n\\n\\t\\t\\t\\tEmpty sheet            \\n\\n\\t\\t        Select template                \\n\\n\\n\\n\\n \\n\\n\\n\\n\\t\\tQuantity        \\n\\n\\n\\n\\n111pcs\\n$26\\n\\n\\n200pcs\\n$46\\n\\n\\n300pcs\\n$70\\n\\n\\n500pcs\\n$78\\n\\n- 33%\\n\\n\\n\\n600pcs\\n$94\\n\\n- 33%\\n\\n\\n\\n900pcs\\n$100\\n\\n- 53%\\n\\n\\n\\n1,200pcs\\n$134\\n\\n- 52%\\n\\n\\n\\n1,500pcs\\n$167\\n\\n- 52%\\n\\n\\n\\n2,000pcs\\n$191\\n\\n- 59%\\n\\n\\n\\n\\n\\t\\t\\tCustom quantity            \\n\\n\\n\\n\\n$26\\n\\n\\n\\n \\n\\n\\nMaterial\\n\\n\\nVinyl\\nBestseller\\n\\n\\n\\t\\t\\t\\t\\tSpecial materials                    \\n\\n\\n\\nHolographic\\n\\n\\nGlow\\n\\n\\nGlitter\\n\\n\\nTransparent\\n\\n\\nMirror\\n\\n\\nPrismatic\\n\\n\\nAluminum\\n\\n\\nEpoxy 3D\\n\\n\\nHeavy Duty\\n\\n\\nKraft Paper\\n\\n\\nRemovable\\n\\n\\nWall\\n\\n\\nPixie Dust\\nNew\\n\\n\\nFloor\\n\\n\\nWhite  labels (on sheets)\\n\\n\\nTransparent labels (on sheets)\\n\\n\\n \\n\\n\\t\\t\\t\\tUpload file                \\n\\n\\n\\n\\t\\tNext        \\n\\n\\n\\n\\nPDF, PNG, JPG, SVG, TIF, GIF, BMP, AI, PSD\\n\\n\\n\\n\\n\\n×\\nWhat_is_this\\n\\n\\n\\n\\n\\nWithout_square_back\\n\\nDie_cut_list1\\nDie_cut_list2\\n\\n\\n\\n\\nWith_square_back\\n\\nLaser_list1\\nLaser_list2\\n\\n\\n\\n\\n\\n\\n\\n\\n\\n\\n\\n\\n\\n\\n×\\nSelect template',\n",
       " 'Our Best Selling Sticker Material\\nVinyl stickers are the OG multipurpose sticker. This material is strong, reliable, and versatile, perfect for indoor or outdoor use. Stickers made on our vinyl material will withstand any kind of weather, will hang on through the dishwasher, and are UV protected so they will stay shiny and vibrant for up to 4 years.\\n\\n\\n\\n\\n\\n\\n\\n\\nInstant Proof with our Sticker Maker\\nWith our custom sticker editor, you can make any design you can think of to be printed on white vinyl. The colors will pop and the vinyl will give them a nice clean finish.',\n",
       " 'Make vinyl stickers',\n",
       " 'How-To\\n\\n\\nHow to order vinyl stickers\\n\\nSelect material \"vinyl\" above.\\nSelect your desired cutline, size and quantity in the wizard above.\\nUpload your file to create your custom order.\\nSelect your shipping and pay.\\n\\nLet us know if you have any questions or additional requests!\\n\\n\\n\\n Specs\\n\\n\\nProduct Features\\n\\n\\n\\nMaterial Name\\nWhite premium PP film Permanent adhesive\\n\\n\\nLaminate\\nUV Glossy Pet, Glossy PET, Soft touch Matte, Cracked Ice\\n\\n\\nAvailable products\\nDie cut, Kiss cut, Sticker sheet, 3D Dome, Hang tag\\n\\n\\nSize restrictions\\nMax 47.2\" (120 cm) in one direction\\n\\n\\nBack paper print\\nYes*\\n\\n\\nPink Ink\\nYes*\\n\\n\\nInvisible Ink\\nYes\\n\\n\\nOpacities\\nNo\\n\\n\\nMetallics colors\\nNo\\n\\n\\nRecycled\\nNo\\n\\n\\nPVC Free\\nYes*\\n\\n\\nUV proof\\nGlossy laminate only\\n\\n\\nWaterproof\\nYes\\n\\n\\nDishwasher safe\\nYes\\n\\n\\nScratchproof\\nGlossy laminate only\\n\\n\\nFull color print\\nYes\\n\\n\\nRemovable\\nYes\\n\\n\\nBack Slit\\nNo\\n\\n\\nHeight\\n0,123 mm (Glossy)\\n\\n\\nIndoor use only\\nNo\\n\\n\\n\\n\\xa0\\n*=sizes below 10.6\" (27 cm) in one direction\\n\\n\\n\\n Faq\\n\\n\\n\\n\\n\\nIs vinyl material suitable for both indoor and outdoor use?\\n\\n\\n\\nYes, our vinyl material is suitable for both indoor and outdoor use. Vinyl material is water- and weather-proof and if you combine it with the glossy laminate, it is also resistant to UV radiation, giving it an outdoor life of about 2-4 years.\\n\\n\\n\\n\\n\\n\\nHow durable are vinyl stickers, and do they fade over time? \\n\\n\\nOur vinyl stickers are water-, weather- and, with a glossy laminate, also UV-proof. They are resistant to light scratches and will work perfectly on a majority of smooth, dry and clean surfaces. Glossy vinyl stickers should survive up to 2-4 years outdoors before they begin to fade and it\\'s even longer indoors, depending on the conditions that the stickers are exposed to.\\n\\n\\n\\n\\n\\nCan vinyl stickers be easily removed without leaving residue? \\n\\n\\nOur vinyl stickers can be easily removed, however, the residue depends on the outside factors, such as how long the stickers remain in one place and what temperatures and weather conditions they are exposed to.\\n\\n\\n\\n\\n\\nHow durable are vinyl stickers, and do they fade over time?\\n\\n\\nOur vinyl stickers are water-, weather- and, with a glossy laminate, also UV-proof. They are resistant to light scratches and will work perfectly on a majority of smooth, dry and clean surfaces. Glossy vinyl stickers should survive up to 2-4 years outdoors before they begin to fade and it\\'s even longer indoors, depending on the conditions that the stickers are exposed to.\\n\\n\\n\\n\\n\\nCan vinyl stickers be cut into custom shapes and sizes?\\n\\n\\nYes, our vinyl stickers can be cut into almost any custom shape with rounded edges. The maximum size for vinyl stickers is 47\"x47\" (120x120cm), so there is a wide variety of shape and size possibilities.',\n",
       " 'Need convincing we’re the best sticker producing company ever?\\n\\n\\n\\n\"StickerApp is a perfect match for us with all the different materials, short lead times, efficient customer support and the fact that we can control cutlines directly in our original file etc...\"\\nOmnipollo\\n\\n\\n\\n\"StickerApp has been our GO-TO for 3+ years!\"...\"hands down the best quality stickers, amazing customer support and very fast shipping times worldwide. Happy to have StickerApp as our official producer of Sticker Savages stickers!\"\\nSticker Savages\\n\\n\\n\\n\"Being an animator, there\\'s nothing more important than being able to produce products of my characters that people are able to take home. It increases the love between the viewer and the art. StickerApp has helped me do exactly that with high-quality, creative, and colorful stickers that re-imagine how my 2D cartoon characters interact with this 3D world.\"\\nDanny Casale\\n\\n\\n\\n\"StickerApp has been our trusted sticker printer for several years now, and we cannot recommend them enough. From their excellent quality to their quick turnaround times, StickerApp consistently exceeds our expectations!\"\\nSourpuss Clothing',\n",
       " 'Get Inspired. Get Creative.\\nCheck out vivacious vinyl stickers from some artists who love StickerApp and get inspired.\\n\\n\\n\\nVinyl sticker by @iamasinner\\n\\n\\n\\n\\nVinyl sticker by @krystansaintcat\\n\\n\\n\\n\\nVinyl sticker by @lowcloudcanada\\n\\n\\n\\n\\nVinyl sticker by @mannymcflyoriginals',\n",
       " \"Good to know details about white vinyl\\n\\n\\nGlossy, matte or cracked ice compatible laminates\\nBack paper print available\\nFull color print\\nWhite premium PP film with permanent adhesive\\n2-4 year outdoor life with glossy laminate only\\nPVC free product\\nAvailable as sticker sheets\\n\\n\\nYou will not be charged per printed color\\nMake a design with as many colors and effects as you want, you'll always pay the same price\",\n",
       " 'Make vinyl stickers',\n",
       " 'Holographic Stickers\\nGroovy baby\\nMaterial with a rainbow, psychedelic look.\\n\\n\\n\\n\\n\\n\\n\\nTransparent Stickers\\nSee-thru\\nA clear favorite with a see-thru effect.\\n\\n\\n\\n\\n\\n\\n\\nGlitter Stickers\\nAll that glitters\\nMaterial with a colorful, shimmery glistening effect.']"
      ]
     },
     "execution_count": 107,
     "metadata": {},
     "output_type": "execute_result"
    }
   ],
   "source": [
    "material_vinyl_content['div']"
   ]
  },
  {
   "cell_type": "code",
   "execution_count": 143,
   "metadata": {},
   "outputs": [
    {
     "data": {
      "text/plain": [
       "[\"Excellent\\n\\n\\n\\n\\n4.7\\n        out of 5 based on        10736 reviews\\n\\n\\nCustom Vinyl Stickers\\nMake your own custom-made vinyl stickers on our best-selling and durable sticker material.\\nWhat's not to love about our most functional and straightforward sticker material? When you create your custom sticker on our most popular white vinyl material, you open the door to endless design possibilities. Choose from a myriad of add-on options like back paper print, alternative laminates, and creative inks- anything goes when it comes to vinyl material.\\n Let us know in a comment if you need any design help or have special requests.\",\n",
       " \"Good to know details about white vinyl\\n\\n\\nGlossy, matte or cracked ice compatible laminates\\nBack paper print available\\nFull color print\\nWhite premium PP film with permanent adhesive\\n2-4 year outdoor life with glossy laminate only\\nPVC free product\\nAvailable as sticker sheets\\n\\n\\nYou will not be charged per printed color\\nMake a design with as many colors and effects as you want, you'll always pay the same price\",\n",
       " 'Our Best Selling Sticker Material\\nVinyl stickers are the OG multipurpose sticker. This material is strong, reliable, and versatile, perfect for indoor or outdoor use. Stickers made on our vinyl material will withstand any kind of weather, will hang on through the dishwasher, and are UV protected so they will stay shiny and vibrant for up to 4 years.\\n\\n\\n\\n\\n\\n\\n\\n\\nInstant Proof with our Sticker Maker\\nWith our custom sticker editor, you can make any design you can think of to be printed on white vinyl. The colors will pop and the vinyl will give them a nice clean finish.',\n",
       " 'How-To\\n\\n\\nHow to order vinyl stickers\\n\\nSelect material \"vinyl\" above.\\nSelect your desired cutline, size and quantity in the wizard above.\\nUpload your file to create your custom order.\\nSelect your shipping and pay.\\n\\nLet us know if you have any questions or additional requests!\\n\\n\\n\\n Specs\\n\\n\\nProduct Features\\n\\n\\n\\nMaterial Name\\nWhite premium PP film Permanent adhesive\\n\\n\\nLaminate\\nUV Glossy Pet, Glossy PET, Soft touch Matte, Cracked Ice\\n\\n\\nAvailable products\\nDie cut, Kiss cut, Sticker sheet, 3D Dome, Hang tag\\n\\n\\nSize restrictions\\nMax 47.2\" (120 cm) in one direction\\n\\n\\nBack paper print\\nYes*\\n\\n\\nPink Ink\\nYes*\\n\\n\\nInvisible Ink\\nYes\\n\\n\\nOpacities\\nNo\\n\\n\\nMetallics colors\\nNo\\n\\n\\nRecycled\\nNo\\n\\n\\nPVC Free\\nYes*\\n\\n\\nUV proof\\nGlossy laminate only\\n\\n\\nWaterproof\\nYes\\n\\n\\nDishwasher safe\\nYes\\n\\n\\nScratchproof\\nGlossy laminate only\\n\\n\\nFull color print\\nYes\\n\\n\\nRemovable\\nYes\\n\\n\\nBack Slit\\nNo\\n\\n\\nHeight\\n0,123 mm (Glossy)\\n\\n\\nIndoor use only\\nNo\\n\\n\\n\\n\\xa0\\n*=sizes below 10.6\" (27 cm) in one direction\\n\\n\\n\\n Faq\\n\\n\\n\\n\\n\\nIs vinyl material suitable for both indoor and outdoor use?\\n\\n\\n\\nYes, our vinyl material is suitable for both indoor and outdoor use. Vinyl material is water- and weather-proof and if you combine it with the glossy laminate, it is also resistant to UV radiation, giving it an outdoor life of about 2-4 years.\\n\\n\\n\\n\\n\\n\\nHow durable are vinyl stickers, and do they fade over time? \\n\\n\\nOur vinyl stickers are water-, weather- and, with a glossy laminate, also UV-proof. They are resistant to light scratches and will work perfectly on a majority of smooth, dry and clean surfaces. Glossy vinyl stickers should survive up to 2-4 years outdoors before they begin to fade and it\\'s even longer indoors, depending on the conditions that the stickers are exposed to.\\n\\n\\n\\n\\n\\nCan vinyl stickers be easily removed without leaving residue? \\n\\n\\nOur vinyl stickers can be easily removed, however, the residue depends on the outside factors, such as how long the stickers remain in one place and what temperatures and weather conditions they are exposed to.\\n\\n\\n\\n\\n\\nHow durable are vinyl stickers, and do they fade over time?\\n\\n\\nOur vinyl stickers are water-, weather- and, with a glossy laminate, also UV-proof. They are resistant to light scratches and will work perfectly on a majority of smooth, dry and clean surfaces. Glossy vinyl stickers should survive up to 2-4 years outdoors before they begin to fade and it\\'s even longer indoors, depending on the conditions that the stickers are exposed to.\\n\\n\\n\\n\\n\\nCan vinyl stickers be cut into custom shapes and sizes?\\n\\n\\nYes, our vinyl stickers can be cut into almost any custom shape with rounded edges. The maximum size for vinyl stickers is 47\"x47\" (120x120cm), so there is a wide variety of shape and size possibilities.',\n",
       " 'Need convincing we’re the best sticker producing company ever?\\n\\n\\n\\n\"StickerApp is a perfect match for us with all the different materials, short lead times, efficient customer support and the fact that we can control cutlines directly in our original file etc...\"\\nOmnipollo\\n\\n\\n\\n\"StickerApp has been our GO-TO for 3+ years!\"...\"hands down the best quality stickers, amazing customer support and very fast shipping times worldwide. Happy to have StickerApp as our official producer of Sticker Savages stickers!\"\\nSticker Savages\\n\\n\\n\\n\"Being an animator, there\\'s nothing more important than being able to produce products of my characters that people are able to take home. It increases the love between the viewer and the art. StickerApp has helped me do exactly that with high-quality, creative, and colorful stickers that re-imagine how my 2D cartoon characters interact with this 3D world.\"\\nDanny Casale\\n\\n\\n\\n\"StickerApp has been our trusted sticker printer for several years now, and we cannot recommend them enough. From their excellent quality to their quick turnaround times, StickerApp consistently exceeds our expectations!\"\\nSourpuss Clothing',\n",
       " 'Get Inspired. Get Creative.\\nCheck out vivacious vinyl stickers from some artists who love StickerApp and get inspired.\\n\\n\\n\\nVinyl sticker by @iamasinner\\n\\n\\n\\n\\nVinyl sticker by @krystansaintcat\\n\\n\\n\\n\\nVinyl sticker by @lowcloudcanada\\n\\n\\n\\n\\nVinyl sticker by @mannymcflyoriginals',\n",
       " 'What our customers say about Vinyl\\n\\xa0\\n\\n\\n\\n\\n\\n\\n\\n\\n5\\n / 5 • \\n1129 reviews\\n\\n\\n\\n\\n\\n\\n\\n\\n\\n\\n\\n                    Quality                \\n\\n\\n5\\n / 5\\n\\n\\n\\n\\n                    Value for money                \\n\\n\\n5\\n / 5\\n\\n\\n\\n\\n\\n\\n\\n SW, \\n 5 days \\n\\n\\n\\n\\n\\n                            More details                        \\n\\n\\nGreat product.\\n\\n\\n\\n                                Quality                                \\n\\n\\n                                Value for money                                \\n\\n\\n\\n\\n\\n\\n\\n Gregory Gross, \\n 5 days \\n\\n\\n\\n\\n\\n                            More details                        \\n\\n\\nAwesome price, product, and customer service!\\n\\n\\n\\n                                Quality                                \\n\\n\\n                                Value for money                                \\n\\n\\n\\n\\n\\n\\n\\n Theresa Kenney, \\n 5 days \\n\\n\\n\\n\\n\\n                            More details                        \\n\\n\\nIncredible quality and fast shipping! So pleased!\\n\\n\\n\\n                                Quality                                \\n\\n\\n                                Value for money                                \\n\\n\\n\\n\\n\\n\\n\\n Angela M, \\n 5 days \\n\\n\\n\\n\\n\\n                            More details                        \\n\\n\\nExcellent quality \\n\\n\\n\\n                                Quality                                \\n\\n\\n                                Value for money                                \\n\\n\\n\\n\\n\\n\\n\\n Yoh Morinozuka, \\n 6 days \\n\\n\\n\\n\\n\\n                            More details                        \\n\\n\\nGreat quality and fast reliable service to get the job done!\\n\\n\\n\\n                                Quality                                \\n\\n\\n                                Value for money                                \\n\\n\\n\\n\\n\\n\\n\\n\\nMore Reviews',\n",
       " \"Stuck for stickers ideas?\\nCheck out these other sticker materials we think you'll love. What will you create next?\",\n",
       " 'Holographic Stickers\\nGroovy baby\\nMaterial with a rainbow, psychedelic look.\\n\\n\\n\\n\\n\\n\\n\\nTransparent Stickers\\nSee-thru\\nA clear favorite with a see-thru effect.\\n\\n\\n\\n\\n\\n\\n\\nGlitter Stickers\\nAll that glitters\\nMaterial with a colorful, shimmery glistening effect.']"
      ]
     },
     "execution_count": 143,
     "metadata": {},
     "output_type": "execute_result"
    }
   ],
   "source": [
    "material_vinyl_list= material_vinyl_scrap.gen_content_list(material_vinyl_content)\n",
    "material_vinyl_list"
   ]
  },
  {
   "cell_type": "code",
   "execution_count": 144,
   "metadata": {},
   "outputs": [
    {
     "data": {
      "text/plain": [
       "['Design your own custom vinyl stickers on our durable white vinyl material with endless design possibilities.',\n",
       " 'Customize your design with unlimited colors and effects on white vinyl stickers without any additional charges.',\n",
       " 'Create durable and vibrant stickers with our best-selling vinyl material, perfect for any design and built to withstand the elements.',\n",
       " 'How to order vinyl stickers: Select material, customize size and shape, upload file, choose shipping and pay.',\n",
       " 'Why choose StickerApp? High-quality stickers, efficient customer support, and quick turnaround times make us the best sticker producing company ever!',\n",
       " 'Discover vibrant vinyl stickers created by talented artists on StickerApp and ignite your creativity.',\n",
       " 'What do customers think about Vinyl?',\n",
       " 'Explore a variety of sticker materials for endless creative possibilities - what will be your next masterpiece?',\n",
       " 'What are the different types of stickers and their unique visual effects?']"
      ]
     },
     "execution_count": 144,
     "metadata": {},
     "output_type": "execute_result"
    }
   ],
   "source": [
    "material_vinyl_gen_tag= material_vinyl_scrap.gen_tag(material_vinyl_list)\n",
    "material_vinyl_gen_tag"
   ]
  },
  {
   "cell_type": "code",
   "execution_count": 10,
   "metadata": {},
   "outputs": [
    {
     "data": {
      "text/html": [
       "<div>\n",
       "<style scoped>\n",
       "    .dataframe tbody tr th:only-of-type {\n",
       "        vertical-align: middle;\n",
       "    }\n",
       "\n",
       "    .dataframe tbody tr th {\n",
       "        vertical-align: top;\n",
       "    }\n",
       "\n",
       "    .dataframe thead th {\n",
       "        text-align: right;\n",
       "    }\n",
       "</style>\n",
       "<table border=\"1\" class=\"dataframe\">\n",
       "  <thead>\n",
       "    <tr style=\"text-align: right;\">\n",
       "      <th></th>\n",
       "      <th>tag</th>\n",
       "      <th>content</th>\n",
       "      <th>lang</th>\n",
       "      <th>title</th>\n",
       "      <th>name</th>\n",
       "      <th>page_type</th>\n",
       "      <th>url</th>\n",
       "    </tr>\n",
       "  </thead>\n",
       "  <tbody>\n",
       "    <tr>\n",
       "      <th>0</th>\n",
       "      <td>Create your own custom vinyl stickers with end...</td>\n",
       "      <td>[TrustpilotBanner size=\"medium\"]\\r\\nCustom Vin...</td>\n",
       "      <td>us</td>\n",
       "      <td>Vinyl</td>\n",
       "      <td>vinyl-stickers</td>\n",
       "      <td>stickerapp-materials</td>\n",
       "      <td>https://stickerapp.com/materials/vinyl-stickers</td>\n",
       "    </tr>\n",
       "    <tr>\n",
       "      <th>1</th>\n",
       "      <td>Create durable and vibrant vinyl stickers for ...</td>\n",
       "      <td>Our Best Selling Sticker Material\\nVinyl stick...</td>\n",
       "      <td>us</td>\n",
       "      <td>Vinyl</td>\n",
       "      <td>vinyl-stickers</td>\n",
       "      <td>stickerapp-materials</td>\n",
       "      <td>https://stickerapp.com/materials/vinyl-stickers</td>\n",
       "    </tr>\n",
       "    <tr>\n",
       "      <th>2</th>\n",
       "      <td>How can I order vinyl stickers and customize t...</td>\n",
       "      <td>How to order vinyl stickers\\n\\nSelect material...</td>\n",
       "      <td>us</td>\n",
       "      <td>Vinyl</td>\n",
       "      <td>vinyl-stickers</td>\n",
       "      <td>stickerapp-materials</td>\n",
       "      <td>https://stickerapp.com/materials/vinyl-stickers</td>\n",
       "    </tr>\n",
       "    <tr>\n",
       "      <th>3</th>\n",
       "      <td>What are the product features of the white pre...</td>\n",
       "      <td>Product Features\\n\\n\\n\\nMaterial Name\\nWhite p...</td>\n",
       "      <td>us</td>\n",
       "      <td>Vinyl</td>\n",
       "      <td>vinyl-stickers</td>\n",
       "      <td>stickerapp-materials</td>\n",
       "      <td>https://stickerapp.com/materials/vinyl-stickers</td>\n",
       "    </tr>\n",
       "    <tr>\n",
       "      <th>4</th>\n",
       "      <td>Is vinyl material suitable for both indoor and...</td>\n",
       "      <td>Is vinyl material suitable for both indoor and...</td>\n",
       "      <td>us</td>\n",
       "      <td>Vinyl</td>\n",
       "      <td>vinyl-stickers</td>\n",
       "      <td>stickerapp-materials</td>\n",
       "      <td>https://stickerapp.com/materials/vinyl-stickers</td>\n",
       "    </tr>\n",
       "    <tr>\n",
       "      <th>5</th>\n",
       "      <td>Customize your design with unlimited colors an...</td>\n",
       "      <td>Good to know details about white vinyl\\n\\n\\nGl...</td>\n",
       "      <td>us</td>\n",
       "      <td>Vinyl</td>\n",
       "      <td>vinyl-stickers</td>\n",
       "      <td>stickerapp-materials</td>\n",
       "      <td>https://stickerapp.com/materials/vinyl-stickers</td>\n",
       "    </tr>\n",
       "    <tr>\n",
       "      <th>6</th>\n",
       "      <td>\"StickerApp: The go-to for high-quality sticke...</td>\n",
       "      <td>\"StickerApp is a perfect match for us with all...</td>\n",
       "      <td>us</td>\n",
       "      <td>Vinyl</td>\n",
       "      <td>vinyl-stickers</td>\n",
       "      <td>stickerapp-materials</td>\n",
       "      <td>https://stickerapp.com/materials/vinyl-stickers</td>\n",
       "    </tr>\n",
       "    <tr>\n",
       "      <th>7</th>\n",
       "      <td>Where can I find vinyl stickers by @iamasinner...</td>\n",
       "      <td>Vinyl sticker by @iamasinner\\n\\n\\n\\n\\nVinyl st...</td>\n",
       "      <td>us</td>\n",
       "      <td>Vinyl</td>\n",
       "      <td>vinyl-stickers</td>\n",
       "      <td>stickerapp-materials</td>\n",
       "      <td>https://stickerapp.com/materials/vinyl-stickers</td>\n",
       "    </tr>\n",
       "  </tbody>\n",
       "</table>\n",
       "</div>"
      ],
      "text/plain": [
       "                                                 tag  \\\n",
       "0  Create your own custom vinyl stickers with end...   \n",
       "1  Create durable and vibrant vinyl stickers for ...   \n",
       "2  How can I order vinyl stickers and customize t...   \n",
       "3  What are the product features of the white pre...   \n",
       "4  Is vinyl material suitable for both indoor and...   \n",
       "5  Customize your design with unlimited colors an...   \n",
       "6  \"StickerApp: The go-to for high-quality sticke...   \n",
       "7  Where can I find vinyl stickers by @iamasinner...   \n",
       "\n",
       "                                             content lang  title  \\\n",
       "0  [TrustpilotBanner size=\"medium\"]\\r\\nCustom Vin...   us  Vinyl   \n",
       "1  Our Best Selling Sticker Material\\nVinyl stick...   us  Vinyl   \n",
       "2  How to order vinyl stickers\\n\\nSelect material...   us  Vinyl   \n",
       "3  Product Features\\n\\n\\n\\nMaterial Name\\nWhite p...   us  Vinyl   \n",
       "4  Is vinyl material suitable for both indoor and...   us  Vinyl   \n",
       "5  Good to know details about white vinyl\\n\\n\\nGl...   us  Vinyl   \n",
       "6  \"StickerApp is a perfect match for us with all...   us  Vinyl   \n",
       "7  Vinyl sticker by @iamasinner\\n\\n\\n\\n\\nVinyl st...   us  Vinyl   \n",
       "\n",
       "             name             page_type  \\\n",
       "0  vinyl-stickers  stickerapp-materials   \n",
       "1  vinyl-stickers  stickerapp-materials   \n",
       "2  vinyl-stickers  stickerapp-materials   \n",
       "3  vinyl-stickers  stickerapp-materials   \n",
       "4  vinyl-stickers  stickerapp-materials   \n",
       "5  vinyl-stickers  stickerapp-materials   \n",
       "6  vinyl-stickers  stickerapp-materials   \n",
       "7  vinyl-stickers  stickerapp-materials   \n",
       "\n",
       "                                               url  \n",
       "0  https://stickerapp.com/materials/vinyl-stickers  \n",
       "1  https://stickerapp.com/materials/vinyl-stickers  \n",
       "2  https://stickerapp.com/materials/vinyl-stickers  \n",
       "3  https://stickerapp.com/materials/vinyl-stickers  \n",
       "4  https://stickerapp.com/materials/vinyl-stickers  \n",
       "5  https://stickerapp.com/materials/vinyl-stickers  \n",
       "6  https://stickerapp.com/materials/vinyl-stickers  \n",
       "7  https://stickerapp.com/materials/vinyl-stickers  "
      ]
     },
     "execution_count": 10,
     "metadata": {},
     "output_type": "execute_result"
    }
   ],
   "source": [
    "material_vinyl_df = material_vinyl_scrap.gen_df()\n",
    "material_vinyl_df"
   ]
  },
  {
   "cell_type": "code",
   "execution_count": null,
   "metadata": {},
   "outputs": [],
   "source": []
  }
 ],
 "metadata": {
  "kernelspec": {
   "display_name": "general-dev-202309",
   "language": "python",
   "name": "python3"
  },
  "language_info": {
   "codemirror_mode": {
    "name": "ipython",
    "version": 3
   },
   "file_extension": ".py",
   "mimetype": "text/x-python",
   "name": "python",
   "nbconvert_exporter": "python",
   "pygments_lexer": "ipython3",
   "version": "3.11.4"
  }
 },
 "nbformat": 4,
 "nbformat_minor": 2
}
