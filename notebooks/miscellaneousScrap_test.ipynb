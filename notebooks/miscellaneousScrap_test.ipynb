{
 "cells": [
  {
   "cell_type": "code",
   "execution_count": 3,
   "metadata": {},
   "outputs": [],
   "source": [
    "import os\n",
    "import sys\n",
    "sys.path.insert(0, '/Users/zhiwei.chang/Documents/StickerApp_projects/AI_search/AI_search_US_CICD_v2/codes') \n",
    "file=open('./api_key/key.txt',\"r\")\n",
    "key=file.read()\n",
    "file.close()\n",
    "os.environ[\"OPENAI_API_KEY\"] = key\n",
    "\n",
    "import pandas as pd\n",
    "import requests\n",
    "import re\n",
    "\n",
    "headers = {\n",
    "    \"User-Agent\": \"Mozilla/5.0 (Windows NT 6.1; WOW64; rv:20.0) Gecko/20100101 Firefox/20.0\"\n",
    "}"
   ]
  },
  {
   "cell_type": "markdown",
   "metadata": {},
   "source": [
    "## Scrap"
   ]
  },
  {
   "cell_type": "markdown",
   "metadata": {},
   "source": [
    "### custom stickers"
   ]
  },
  {
   "cell_type": "code",
   "execution_count": 4,
   "metadata": {},
   "outputs": [],
   "source": [
    "htmlLink = 'https://stickerapp.com/custom-stickers'\n",
    "r = requests.get(htmlLink, headers=headers)"
   ]
  },
  {
   "cell_type": "code",
   "execution_count": 8,
   "metadata": {},
   "outputs": [],
   "source": [
    "custom_stickers_data = {\n",
    "    'lang': 'us',\n",
    "    'title': 'custom',\n",
    "    'name': 'custom',\n",
    "    'page_type': 'custom-stickers',\n",
    "    'url': 'https://stickerapp.com/custom-stickers',\n",
    "    'content':r.text   \n",
    "}\n",
    "\n",
    "custom_stickers_tags = {\n",
    "    'div': ['hero-item', 'col-xs-12 col-sm-6'],\n",
    "    'p': ['wizard-description']\n",
    "}"
   ]
  },
  {
   "cell_type": "code",
   "execution_count": 10,
   "metadata": {},
   "outputs": [],
   "source": [
    "from scrap import Scrap\n",
    "custom_stickers_scrap = Scrap(custom_stickers_data, custom_stickers_tags)"
   ]
  },
  {
   "cell_type": "code",
   "execution_count": 11,
   "metadata": {},
   "outputs": [
    {
     "data": {
      "text/html": [
       "<div>\n",
       "<style scoped>\n",
       "    .dataframe tbody tr th:only-of-type {\n",
       "        vertical-align: middle;\n",
       "    }\n",
       "\n",
       "    .dataframe tbody tr th {\n",
       "        vertical-align: top;\n",
       "    }\n",
       "\n",
       "    .dataframe thead th {\n",
       "        text-align: right;\n",
       "    }\n",
       "</style>\n",
       "<table border=\"1\" class=\"dataframe\">\n",
       "  <thead>\n",
       "    <tr style=\"text-align: right;\">\n",
       "      <th></th>\n",
       "      <th>tag</th>\n",
       "      <th>content</th>\n",
       "      <th>lang</th>\n",
       "      <th>title</th>\n",
       "      <th>name</th>\n",
       "      <th>page_type</th>\n",
       "      <th>url</th>\n",
       "    </tr>\n",
       "  </thead>\n",
       "  <tbody>\n",
       "    <tr>\n",
       "      <th>0</th>\n",
       "      <td>Design and personalize your own stickers effor...</td>\n",
       "      <td>Print Custom Stickers\\n\\nMake your own custom ...</td>\n",
       "      <td>us</td>\n",
       "      <td>custom</td>\n",
       "      <td>custom</td>\n",
       "      <td>custom-stickers</td>\n",
       "      <td>https://stickerapp.com/custom-stickers</td>\n",
       "    </tr>\n",
       "    <tr>\n",
       "      <th>1</th>\n",
       "      <td>Boost your brand with custom stickers for your...</td>\n",
       "      <td>Print custom stickers for your business?\\nHey ...</td>\n",
       "      <td>us</td>\n",
       "      <td>custom</td>\n",
       "      <td>custom</td>\n",
       "      <td>custom-stickers</td>\n",
       "      <td>https://stickerapp.com/custom-stickers</td>\n",
       "    </tr>\n",
       "    <tr>\n",
       "      <th>2</th>\n",
       "      <td>Custom stickers for any situation, with weathe...</td>\n",
       "      <td>Stickers for every need and situation\\nOur cus...</td>\n",
       "      <td>us</td>\n",
       "      <td>custom</td>\n",
       "      <td>custom</td>\n",
       "      <td>custom-stickers</td>\n",
       "      <td>https://stickerapp.com/custom-stickers</td>\n",
       "    </tr>\n",
       "    <tr>\n",
       "      <th>3</th>\n",
       "      <td>Create custom die-cut stickers with +10 materi...</td>\n",
       "      <td>Watch your art come to life\\nIf you’re thinkin...</td>\n",
       "      <td>us</td>\n",
       "      <td>custom</td>\n",
       "      <td>custom</td>\n",
       "      <td>custom-stickers</td>\n",
       "      <td>https://stickerapp.com/custom-stickers</td>\n",
       "    </tr>\n",
       "    <tr>\n",
       "      <th>4</th>\n",
       "      <td>Turn your kids' drawings into stickers, decora...</td>\n",
       "      <td>Print sheets with kids drawings\\nYou love your...</td>\n",
       "      <td>us</td>\n",
       "      <td>custom</td>\n",
       "      <td>custom</td>\n",
       "      <td>custom-stickers</td>\n",
       "      <td>https://stickerapp.com/custom-stickers</td>\n",
       "    </tr>\n",
       "    <tr>\n",
       "      <th>5</th>\n",
       "      <td>Customize your stickers with add-ons like back...</td>\n",
       "      <td>Add-ons like back paper print and pink ink can...</td>\n",
       "      <td>us</td>\n",
       "      <td>custom</td>\n",
       "      <td>custom</td>\n",
       "      <td>custom-stickers</td>\n",
       "      <td>https://stickerapp.com/custom-stickers</td>\n",
       "    </tr>\n",
       "  </tbody>\n",
       "</table>\n",
       "</div>"
      ],
      "text/plain": [
       "                                                 tag  \\\n",
       "0  Design and personalize your own stickers effor...   \n",
       "1  Boost your brand with custom stickers for your...   \n",
       "2  Custom stickers for any situation, with weathe...   \n",
       "3  Create custom die-cut stickers with +10 materi...   \n",
       "4  Turn your kids' drawings into stickers, decora...   \n",
       "5  Customize your stickers with add-ons like back...   \n",
       "\n",
       "                                             content lang   title    name  \\\n",
       "0  Print Custom Stickers\\n\\nMake your own custom ...   us  custom  custom   \n",
       "1  Print custom stickers for your business?\\nHey ...   us  custom  custom   \n",
       "2  Stickers for every need and situation\\nOur cus...   us  custom  custom   \n",
       "3  Watch your art come to life\\nIf you’re thinkin...   us  custom  custom   \n",
       "4  Print sheets with kids drawings\\nYou love your...   us  custom  custom   \n",
       "5  Add-ons like back paper print and pink ink can...   us  custom  custom   \n",
       "\n",
       "         page_type                                     url  \n",
       "0  custom-stickers  https://stickerapp.com/custom-stickers  \n",
       "1  custom-stickers  https://stickerapp.com/custom-stickers  \n",
       "2  custom-stickers  https://stickerapp.com/custom-stickers  \n",
       "3  custom-stickers  https://stickerapp.com/custom-stickers  \n",
       "4  custom-stickers  https://stickerapp.com/custom-stickers  \n",
       "5  custom-stickers  https://stickerapp.com/custom-stickers  "
      ]
     },
     "execution_count": 11,
     "metadata": {},
     "output_type": "execute_result"
    }
   ],
   "source": [
    "custom_stickers_df = custom_stickers_scrap.gen_df()\n",
    "custom_stickers_df"
   ]
  },
  {
   "cell_type": "markdown",
   "metadata": {},
   "source": [
    "## Manually add"
   ]
  },
  {
   "cell_type": "markdown",
   "metadata": {},
   "source": [
    "### Reorder"
   ]
  },
  {
   "cell_type": "code",
   "execution_count": 12,
   "metadata": {},
   "outputs": [],
   "source": [
    "reorder_meta_data = {\n",
    "    'lang': 'us',\n",
    "    'title': 'reorder',\n",
    "    'name': 'reorder',\n",
    "    'page_type': 'reorder',\n",
    "    'url': 'https://stickerapp.com/custom-stickers'\n",
    "}\n",
    "\n",
    "reorder_tag_list = [\"Reorder: Fill in your order information to retrieve a past order.\"]\n",
    "reorder_content_list = [\"https://stickerapp.com/reorder\"]"
   ]
  },
  {
   "cell_type": "code",
   "execution_count": 15,
   "metadata": {},
   "outputs": [
    {
     "data": {
      "text/html": [
       "<div>\n",
       "<style scoped>\n",
       "    .dataframe tbody tr th:only-of-type {\n",
       "        vertical-align: middle;\n",
       "    }\n",
       "\n",
       "    .dataframe tbody tr th {\n",
       "        vertical-align: top;\n",
       "    }\n",
       "\n",
       "    .dataframe thead th {\n",
       "        text-align: right;\n",
       "    }\n",
       "</style>\n",
       "<table border=\"1\" class=\"dataframe\">\n",
       "  <thead>\n",
       "    <tr style=\"text-align: right;\">\n",
       "      <th></th>\n",
       "      <th>tag</th>\n",
       "      <th>content</th>\n",
       "      <th>lang</th>\n",
       "      <th>title</th>\n",
       "      <th>name</th>\n",
       "      <th>page_type</th>\n",
       "      <th>url</th>\n",
       "    </tr>\n",
       "  </thead>\n",
       "  <tbody>\n",
       "    <tr>\n",
       "      <th>0</th>\n",
       "      <td>Reorder: Fill in your order information to ret...</td>\n",
       "      <td>https://stickerapp.com/reorder</td>\n",
       "      <td>us</td>\n",
       "      <td>reorder</td>\n",
       "      <td>reorder</td>\n",
       "      <td>reorder</td>\n",
       "      <td>https://stickerapp.com/custom-stickers</td>\n",
       "    </tr>\n",
       "  </tbody>\n",
       "</table>\n",
       "</div>"
      ],
      "text/plain": [
       "                                                 tag  \\\n",
       "0  Reorder: Fill in your order information to ret...   \n",
       "\n",
       "                          content lang    title     name page_type  \\\n",
       "0  https://stickerapp.com/reorder   us  reorder  reorder   reorder   \n",
       "\n",
       "                                      url  \n",
       "0  https://stickerapp.com/custom-stickers  "
      ]
     },
     "execution_count": 15,
     "metadata": {},
     "output_type": "execute_result"
    }
   ],
   "source": [
    "from scrap import manualAdd\n",
    "reorder_scrap = manualAdd(reorder_tag_list, reorder_content_list, reorder_meta_data)\n",
    "reorder_df = reorder_scrap.gen_df()\n",
    "reorder_df.head()"
   ]
  },
  {
   "cell_type": "code",
   "execution_count": null,
   "metadata": {},
   "outputs": [],
   "source": []
  }
 ],
 "metadata": {
  "kernelspec": {
   "display_name": "general-dev-202309",
   "language": "python",
   "name": "python3"
  },
  "language_info": {
   "codemirror_mode": {
    "name": "ipython",
    "version": 3
   },
   "file_extension": ".py",
   "mimetype": "text/x-python",
   "name": "python",
   "nbconvert_exporter": "python",
   "pygments_lexer": "ipython3",
   "version": "3.11.4"
  }
 },
 "nbformat": 4,
 "nbformat_minor": 2
}
